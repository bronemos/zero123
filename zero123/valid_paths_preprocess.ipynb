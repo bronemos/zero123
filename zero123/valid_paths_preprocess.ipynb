{
 "cells": [
  {
   "cell_type": "code",
   "execution_count": 1,
   "metadata": {},
   "outputs": [],
   "source": [
    "import json"
   ]
  },
  {
   "cell_type": "code",
   "execution_count": 8,
   "metadata": {},
   "outputs": [
    {
     "data": {
      "text/plain": [
       "772870"
      ]
     },
     "execution_count": 8,
     "metadata": {},
     "output_type": "execute_result"
    }
   ],
   "source": [
    "valid_paths = json.load(open(\"valid_paths.json\"))\n",
    "len(valid_paths)"
   ]
  },
  {
   "cell_type": "code",
   "execution_count": 17,
   "metadata": {},
   "outputs": [
    {
     "name": "stdout",
     "output_type": "stream",
     "text": [
      "695583\n",
      "695583\n",
      "695583\n",
      "695583\n",
      "695583\n",
      "695583\n",
      "695583\n",
      "695583\n",
      "695583\n",
      "695583\n"
     ]
    }
   ],
   "source": [
    "total_len = len(valid_paths)\n",
    "n = 10\n",
    "for i in range(n):\n",
    "    idx_1 = int(i / n * total_len)\n",
    "    idx_2 = int((i + 1) / n * total_len)\n",
    "    # print(len(valid_paths[idx_1:idx_2]))\n",
    "    with open(f\"valid_paths_{i}\", \"w\") as f:\n",
    "        valid_paths_partial = valid_paths[:idx_1] + valid_paths[idx_2:]\n",
    "        print(len(valid_paths_partial))\n",
    "        for valid_path in (valid_paths_partial):\n",
    "            f.write(valid_path + \"\\n\")"
   ]
  },
  {
   "cell_type": "code",
   "execution_count": null,
   "metadata": {},
   "outputs": [],
   "source": []
  }
 ],
 "metadata": {
  "kernelspec": {
   "display_name": "Python (module anaconda)",
   "language": "python",
   "name": "python3"
  },
  "language_info": {
   "codemirror_mode": {
    "name": "ipython",
    "version": 3
   },
   "file_extension": ".py",
   "mimetype": "text/x-python",
   "name": "python",
   "nbconvert_exporter": "python",
   "pygments_lexer": "ipython3",
   "version": "3.10.10"
  }
 },
 "nbformat": 4,
 "nbformat_minor": 4
}
